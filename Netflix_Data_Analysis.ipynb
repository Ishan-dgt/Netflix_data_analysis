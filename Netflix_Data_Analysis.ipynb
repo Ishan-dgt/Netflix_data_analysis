{
 "cells": [
  {
   "cell_type": "code",
   "execution_count": 1,
   "id": "91185dd5",
   "metadata": {},
   "outputs": [],
   "source": [
    "import numpy as np\n",
    "import pandas as pd\n",
    "import matplotlib.pyplot as plt\n",
    "import seaborn as sns"
   ]
  },
  {
   "cell_type": "code",
   "execution_count": 2,
   "id": "1478d1de",
   "metadata": {},
   "outputs": [],
   "source": [
    "df = pd.read_csv('/Users/ISHAN DASGUPTA/Downloads/netflix_data_analysis.csv')"
   ]
  },
  {
   "cell_type": "code",
   "execution_count": 3,
   "id": "50035325",
   "metadata": {},
   "outputs": [
    {
     "data": {
      "text/html": [
       "<div>\n",
       "<style scoped>\n",
       "    .dataframe tbody tr th:only-of-type {\n",
       "        vertical-align: middle;\n",
       "    }\n",
       "\n",
       "    .dataframe tbody tr th {\n",
       "        vertical-align: top;\n",
       "    }\n",
       "\n",
       "    .dataframe thead th {\n",
       "        text-align: right;\n",
       "    }\n",
       "</style>\n",
       "<table border=\"1\" class=\"dataframe\">\n",
       "  <thead>\n",
       "    <tr style=\"text-align: right;\">\n",
       "      <th></th>\n",
       "      <th>Release Date</th>\n",
       "      <th>Title</th>\n",
       "      <th>Genre</th>\n",
       "      <th>Overview</th>\n",
       "      <th>Popularity</th>\n",
       "      <th>Vote Count</th>\n",
       "      <th>Vote Average</th>\n",
       "      <th>Original Language</th>\n",
       "      <th>Poster URL</th>\n",
       "    </tr>\n",
       "  </thead>\n",
       "  <tbody>\n",
       "    <tr>\n",
       "      <th>0</th>\n",
       "      <td>01-12-2010</td>\n",
       "      <td>The Social Network</td>\n",
       "      <td>Drama</td>\n",
       "      <td>Based on the founding of Facebook</td>\n",
       "      <td>85.5</td>\n",
       "      <td>1200</td>\n",
       "      <td>7.7</td>\n",
       "      <td>en</td>\n",
       "      <td>https://example.com/poster1.jpg</td>\n",
       "    </tr>\n",
       "    <tr>\n",
       "      <th>1</th>\n",
       "      <td>15-07-2011</td>\n",
       "      <td>Friends: The Reunion</td>\n",
       "      <td>Comedy</td>\n",
       "      <td>A reunion special with the cast of Friends</td>\n",
       "      <td>90.2</td>\n",
       "      <td>1500</td>\n",
       "      <td>8.5</td>\n",
       "      <td>en</td>\n",
       "      <td>https://example.com/poster2.jpg</td>\n",
       "    </tr>\n",
       "    <tr>\n",
       "      <th>2</th>\n",
       "      <td>01-11-2012</td>\n",
       "      <td>The Hunger Games</td>\n",
       "      <td>Action</td>\n",
       "      <td>Dystopian future where children fight to the d...</td>\n",
       "      <td>95.3</td>\n",
       "      <td>2000</td>\n",
       "      <td>7.2</td>\n",
       "      <td>en</td>\n",
       "      <td>https://example.com/poster3.jpg</td>\n",
       "    </tr>\n",
       "    <tr>\n",
       "      <th>3</th>\n",
       "      <td>20-03-2015</td>\n",
       "      <td>House of Cards</td>\n",
       "      <td>Drama</td>\n",
       "      <td>A politician's ruthless rise to power</td>\n",
       "      <td>88.1</td>\n",
       "      <td>1800</td>\n",
       "      <td>8.8</td>\n",
       "      <td>en</td>\n",
       "      <td>https://example.com/poster4.jpg</td>\n",
       "    </tr>\n",
       "    <tr>\n",
       "      <th>4</th>\n",
       "      <td>15-08-2016</td>\n",
       "      <td>Stranger Things</td>\n",
       "      <td>Sci-Fi</td>\n",
       "      <td>A group of kids uncover supernatural mysteries</td>\n",
       "      <td>92.4</td>\n",
       "      <td>2500</td>\n",
       "      <td>8.7</td>\n",
       "      <td>en</td>\n",
       "      <td>https://example.com/poster5.jpg</td>\n",
       "    </tr>\n",
       "  </tbody>\n",
       "</table>\n",
       "</div>"
      ],
      "text/plain": [
       "  Release Date                 Title   Genre  \\\n",
       "0   01-12-2010    The Social Network   Drama   \n",
       "1   15-07-2011  Friends: The Reunion  Comedy   \n",
       "2   01-11-2012      The Hunger Games  Action   \n",
       "3   20-03-2015        House of Cards   Drama   \n",
       "4   15-08-2016       Stranger Things  Sci-Fi   \n",
       "\n",
       "                                            Overview  Popularity  Vote Count  \\\n",
       "0                  Based on the founding of Facebook        85.5        1200   \n",
       "1         A reunion special with the cast of Friends        90.2        1500   \n",
       "2  Dystopian future where children fight to the d...        95.3        2000   \n",
       "3              A politician's ruthless rise to power        88.1        1800   \n",
       "4     A group of kids uncover supernatural mysteries        92.4        2500   \n",
       "\n",
       "   Vote Average Original Language                       Poster URL  \n",
       "0           7.7                en  https://example.com/poster1.jpg  \n",
       "1           8.5                en  https://example.com/poster2.jpg  \n",
       "2           7.2                en  https://example.com/poster3.jpg  \n",
       "3           8.8                en  https://example.com/poster4.jpg  \n",
       "4           8.7                en  https://example.com/poster5.jpg  "
      ]
     },
     "execution_count": 3,
     "metadata": {},
     "output_type": "execute_result"
    }
   ],
   "source": [
    "df.head()"
   ]
  },
  {
   "cell_type": "code",
   "execution_count": 4,
   "id": "0a917014",
   "metadata": {},
   "outputs": [
    {
     "name": "stdout",
     "output_type": "stream",
     "text": [
      "<class 'pandas.core.frame.DataFrame'>\n",
      "RangeIndex: 10 entries, 0 to 9\n",
      "Data columns (total 9 columns):\n",
      " #   Column             Non-Null Count  Dtype  \n",
      "---  ------             --------------  -----  \n",
      " 0   Release Date       10 non-null     object \n",
      " 1   Title              10 non-null     object \n",
      " 2   Genre              10 non-null     object \n",
      " 3   Overview           10 non-null     object \n",
      " 4   Popularity         10 non-null     float64\n",
      " 5   Vote Count         10 non-null     int64  \n",
      " 6   Vote Average       10 non-null     float64\n",
      " 7   Original Language  10 non-null     object \n",
      " 8   Poster URL         10 non-null     object \n",
      "dtypes: float64(2), int64(1), object(6)\n",
      "memory usage: 848.0+ bytes\n"
     ]
    }
   ],
   "source": [
    "df.info()"
   ]
  },
  {
   "cell_type": "code",
   "execution_count": 5,
   "id": "06e574e8",
   "metadata": {},
   "outputs": [
    {
     "data": {
      "text/plain": [
       "0     Drama\n",
       "1    Comedy\n",
       "2    Action\n",
       "3     Drama\n",
       "4    Sci-Fi\n",
       "Name: Genre, dtype: object"
      ]
     },
     "execution_count": 5,
     "metadata": {},
     "output_type": "execute_result"
    }
   ],
   "source": [
    "df['Genre'].head()"
   ]
  },
  {
   "cell_type": "code",
   "execution_count": 6,
   "id": "77dfb880",
   "metadata": {},
   "outputs": [
    {
     "data": {
      "text/plain": [
       "np.int64(0)"
      ]
     },
     "execution_count": 6,
     "metadata": {},
     "output_type": "execute_result"
    }
   ],
   "source": [
    "df.duplicated().sum()"
   ]
  },
  {
   "cell_type": "code",
   "execution_count": 7,
   "id": "8a9bacbb",
   "metadata": {},
   "outputs": [
    {
     "data": {
      "text/html": [
       "<div>\n",
       "<style scoped>\n",
       "    .dataframe tbody tr th:only-of-type {\n",
       "        vertical-align: middle;\n",
       "    }\n",
       "\n",
       "    .dataframe tbody tr th {\n",
       "        vertical-align: top;\n",
       "    }\n",
       "\n",
       "    .dataframe thead th {\n",
       "        text-align: right;\n",
       "    }\n",
       "</style>\n",
       "<table border=\"1\" class=\"dataframe\">\n",
       "  <thead>\n",
       "    <tr style=\"text-align: right;\">\n",
       "      <th></th>\n",
       "      <th>Popularity</th>\n",
       "      <th>Vote Count</th>\n",
       "      <th>Vote Average</th>\n",
       "    </tr>\n",
       "  </thead>\n",
       "  <tbody>\n",
       "    <tr>\n",
       "      <th>count</th>\n",
       "      <td>10.000000</td>\n",
       "      <td>10.000000</td>\n",
       "      <td>10.000000</td>\n",
       "    </tr>\n",
       "    <tr>\n",
       "      <th>mean</th>\n",
       "      <td>89.850000</td>\n",
       "      <td>2620.000000</td>\n",
       "      <td>8.200000</td>\n",
       "    </tr>\n",
       "    <tr>\n",
       "      <th>std</th>\n",
       "      <td>3.464503</td>\n",
       "      <td>1099.292702</td>\n",
       "      <td>0.522813</td>\n",
       "    </tr>\n",
       "    <tr>\n",
       "      <th>min</th>\n",
       "      <td>85.000000</td>\n",
       "      <td>1200.000000</td>\n",
       "      <td>7.200000</td>\n",
       "    </tr>\n",
       "    <tr>\n",
       "      <th>25%</th>\n",
       "      <td>87.650000</td>\n",
       "      <td>1850.000000</td>\n",
       "      <td>7.825000</td>\n",
       "    </tr>\n",
       "    <tr>\n",
       "      <th>50%</th>\n",
       "      <td>89.600000</td>\n",
       "      <td>2350.000000</td>\n",
       "      <td>8.400000</td>\n",
       "    </tr>\n",
       "    <tr>\n",
       "      <th>75%</th>\n",
       "      <td>92.175000</td>\n",
       "      <td>3375.000000</td>\n",
       "      <td>8.575000</td>\n",
       "    </tr>\n",
       "    <tr>\n",
       "      <th>max</th>\n",
       "      <td>95.300000</td>\n",
       "      <td>4500.000000</td>\n",
       "      <td>8.800000</td>\n",
       "    </tr>\n",
       "  </tbody>\n",
       "</table>\n",
       "</div>"
      ],
      "text/plain": [
       "       Popularity   Vote Count  Vote Average\n",
       "count   10.000000    10.000000     10.000000\n",
       "mean    89.850000  2620.000000      8.200000\n",
       "std      3.464503  1099.292702      0.522813\n",
       "min     85.000000  1200.000000      7.200000\n",
       "25%     87.650000  1850.000000      7.825000\n",
       "50%     89.600000  2350.000000      8.400000\n",
       "75%     92.175000  3375.000000      8.575000\n",
       "max     95.300000  4500.000000      8.800000"
      ]
     },
     "execution_count": 7,
     "metadata": {},
     "output_type": "execute_result"
    }
   ],
   "source": [
    "df.describe()"
   ]
  },
  {
   "cell_type": "code",
   "execution_count": 8,
   "id": "be02fe19",
   "metadata": {},
   "outputs": [
    {
     "data": {
      "text/html": [
       "<div>\n",
       "<style scoped>\n",
       "    .dataframe tbody tr th:only-of-type {\n",
       "        vertical-align: middle;\n",
       "    }\n",
       "\n",
       "    .dataframe tbody tr th {\n",
       "        vertical-align: top;\n",
       "    }\n",
       "\n",
       "    .dataframe thead th {\n",
       "        text-align: right;\n",
       "    }\n",
       "</style>\n",
       "<table border=\"1\" class=\"dataframe\">\n",
       "  <thead>\n",
       "    <tr style=\"text-align: right;\">\n",
       "      <th></th>\n",
       "      <th>Release Date</th>\n",
       "      <th>Title</th>\n",
       "      <th>Genre</th>\n",
       "      <th>Overview</th>\n",
       "      <th>Popularity</th>\n",
       "      <th>Vote Count</th>\n",
       "      <th>Vote Average</th>\n",
       "      <th>Original Language</th>\n",
       "      <th>Poster URL</th>\n",
       "    </tr>\n",
       "  </thead>\n",
       "  <tbody>\n",
       "    <tr>\n",
       "      <th>0</th>\n",
       "      <td>01-12-2010</td>\n",
       "      <td>The Social Network</td>\n",
       "      <td>Drama</td>\n",
       "      <td>Based on the founding of Facebook</td>\n",
       "      <td>85.5</td>\n",
       "      <td>1200</td>\n",
       "      <td>7.7</td>\n",
       "      <td>en</td>\n",
       "      <td>https://example.com/poster1.jpg</td>\n",
       "    </tr>\n",
       "    <tr>\n",
       "      <th>1</th>\n",
       "      <td>15-07-2011</td>\n",
       "      <td>Friends: The Reunion</td>\n",
       "      <td>Comedy</td>\n",
       "      <td>A reunion special with the cast of Friends</td>\n",
       "      <td>90.2</td>\n",
       "      <td>1500</td>\n",
       "      <td>8.5</td>\n",
       "      <td>en</td>\n",
       "      <td>https://example.com/poster2.jpg</td>\n",
       "    </tr>\n",
       "    <tr>\n",
       "      <th>2</th>\n",
       "      <td>01-11-2012</td>\n",
       "      <td>The Hunger Games</td>\n",
       "      <td>Action</td>\n",
       "      <td>Dystopian future where children fight to the d...</td>\n",
       "      <td>95.3</td>\n",
       "      <td>2000</td>\n",
       "      <td>7.2</td>\n",
       "      <td>en</td>\n",
       "      <td>https://example.com/poster3.jpg</td>\n",
       "    </tr>\n",
       "    <tr>\n",
       "      <th>3</th>\n",
       "      <td>20-03-2015</td>\n",
       "      <td>House of Cards</td>\n",
       "      <td>Drama</td>\n",
       "      <td>A politician's ruthless rise to power</td>\n",
       "      <td>88.1</td>\n",
       "      <td>1800</td>\n",
       "      <td>8.8</td>\n",
       "      <td>en</td>\n",
       "      <td>https://example.com/poster4.jpg</td>\n",
       "    </tr>\n",
       "    <tr>\n",
       "      <th>4</th>\n",
       "      <td>15-08-2016</td>\n",
       "      <td>Stranger Things</td>\n",
       "      <td>Sci-Fi</td>\n",
       "      <td>A group of kids uncover supernatural mysteries</td>\n",
       "      <td>92.4</td>\n",
       "      <td>2500</td>\n",
       "      <td>8.7</td>\n",
       "      <td>en</td>\n",
       "      <td>https://example.com/poster5.jpg</td>\n",
       "    </tr>\n",
       "  </tbody>\n",
       "</table>\n",
       "</div>"
      ],
      "text/plain": [
       "  Release Date                 Title   Genre  \\\n",
       "0   01-12-2010    The Social Network   Drama   \n",
       "1   15-07-2011  Friends: The Reunion  Comedy   \n",
       "2   01-11-2012      The Hunger Games  Action   \n",
       "3   20-03-2015        House of Cards   Drama   \n",
       "4   15-08-2016       Stranger Things  Sci-Fi   \n",
       "\n",
       "                                            Overview  Popularity  Vote Count  \\\n",
       "0                  Based on the founding of Facebook        85.5        1200   \n",
       "1         A reunion special with the cast of Friends        90.2        1500   \n",
       "2  Dystopian future where children fight to the d...        95.3        2000   \n",
       "3              A politician's ruthless rise to power        88.1        1800   \n",
       "4     A group of kids uncover supernatural mysteries        92.4        2500   \n",
       "\n",
       "   Vote Average Original Language                       Poster URL  \n",
       "0           7.7                en  https://example.com/poster1.jpg  \n",
       "1           8.5                en  https://example.com/poster2.jpg  \n",
       "2           7.2                en  https://example.com/poster3.jpg  \n",
       "3           8.8                en  https://example.com/poster4.jpg  \n",
       "4           8.7                en  https://example.com/poster5.jpg  "
      ]
     },
     "execution_count": 8,
     "metadata": {},
     "output_type": "execute_result"
    }
   ],
   "source": [
    "df.head()"
   ]
  },
  {
   "cell_type": "code",
   "execution_count": 9,
   "id": "d919d7ef",
   "metadata": {},
   "outputs": [
    {
     "name": "stdout",
     "output_type": "stream",
     "text": [
      "datetime64[ns]\n"
     ]
    }
   ],
   "source": [
    "df['Release Date'] = pd.to_datetime(df['Release Date'], dayfirst=True, errors='coerce')\n",
    "\n",
    "print(df['Release Date'].dtypes)"
   ]
  },
  {
   "cell_type": "code",
   "execution_count": 10,
   "id": "21d2f138",
   "metadata": {},
   "outputs": [
    {
     "data": {
      "text/plain": [
       "dtype('int32')"
      ]
     },
     "execution_count": 10,
     "metadata": {},
     "output_type": "execute_result"
    }
   ],
   "source": [
    "df['Release Date'] = df['Release Date'].dt.year\n",
    "\n",
    "df['Release Date'].dtypes"
   ]
  },
  {
   "cell_type": "code",
   "execution_count": 11,
   "id": "f3ecaf85",
   "metadata": {},
   "outputs": [
    {
     "data": {
      "text/html": [
       "<div>\n",
       "<style scoped>\n",
       "    .dataframe tbody tr th:only-of-type {\n",
       "        vertical-align: middle;\n",
       "    }\n",
       "\n",
       "    .dataframe tbody tr th {\n",
       "        vertical-align: top;\n",
       "    }\n",
       "\n",
       "    .dataframe thead th {\n",
       "        text-align: right;\n",
       "    }\n",
       "</style>\n",
       "<table border=\"1\" class=\"dataframe\">\n",
       "  <thead>\n",
       "    <tr style=\"text-align: right;\">\n",
       "      <th></th>\n",
       "      <th>Release Date</th>\n",
       "      <th>Title</th>\n",
       "      <th>Genre</th>\n",
       "      <th>Overview</th>\n",
       "      <th>Popularity</th>\n",
       "      <th>Vote Count</th>\n",
       "      <th>Vote Average</th>\n",
       "      <th>Original Language</th>\n",
       "      <th>Poster URL</th>\n",
       "    </tr>\n",
       "  </thead>\n",
       "  <tbody>\n",
       "    <tr>\n",
       "      <th>0</th>\n",
       "      <td>2010</td>\n",
       "      <td>The Social Network</td>\n",
       "      <td>Drama</td>\n",
       "      <td>Based on the founding of Facebook</td>\n",
       "      <td>85.5</td>\n",
       "      <td>1200</td>\n",
       "      <td>7.7</td>\n",
       "      <td>en</td>\n",
       "      <td>https://example.com/poster1.jpg</td>\n",
       "    </tr>\n",
       "    <tr>\n",
       "      <th>1</th>\n",
       "      <td>2011</td>\n",
       "      <td>Friends: The Reunion</td>\n",
       "      <td>Comedy</td>\n",
       "      <td>A reunion special with the cast of Friends</td>\n",
       "      <td>90.2</td>\n",
       "      <td>1500</td>\n",
       "      <td>8.5</td>\n",
       "      <td>en</td>\n",
       "      <td>https://example.com/poster2.jpg</td>\n",
       "    </tr>\n",
       "    <tr>\n",
       "      <th>2</th>\n",
       "      <td>2012</td>\n",
       "      <td>The Hunger Games</td>\n",
       "      <td>Action</td>\n",
       "      <td>Dystopian future where children fight to the d...</td>\n",
       "      <td>95.3</td>\n",
       "      <td>2000</td>\n",
       "      <td>7.2</td>\n",
       "      <td>en</td>\n",
       "      <td>https://example.com/poster3.jpg</td>\n",
       "    </tr>\n",
       "    <tr>\n",
       "      <th>3</th>\n",
       "      <td>2015</td>\n",
       "      <td>House of Cards</td>\n",
       "      <td>Drama</td>\n",
       "      <td>A politician's ruthless rise to power</td>\n",
       "      <td>88.1</td>\n",
       "      <td>1800</td>\n",
       "      <td>8.8</td>\n",
       "      <td>en</td>\n",
       "      <td>https://example.com/poster4.jpg</td>\n",
       "    </tr>\n",
       "    <tr>\n",
       "      <th>4</th>\n",
       "      <td>2016</td>\n",
       "      <td>Stranger Things</td>\n",
       "      <td>Sci-Fi</td>\n",
       "      <td>A group of kids uncover supernatural mysteries</td>\n",
       "      <td>92.4</td>\n",
       "      <td>2500</td>\n",
       "      <td>8.7</td>\n",
       "      <td>en</td>\n",
       "      <td>https://example.com/poster5.jpg</td>\n",
       "    </tr>\n",
       "  </tbody>\n",
       "</table>\n",
       "</div>"
      ],
      "text/plain": [
       "   Release Date                 Title   Genre  \\\n",
       "0          2010    The Social Network   Drama   \n",
       "1          2011  Friends: The Reunion  Comedy   \n",
       "2          2012      The Hunger Games  Action   \n",
       "3          2015        House of Cards   Drama   \n",
       "4          2016       Stranger Things  Sci-Fi   \n",
       "\n",
       "                                            Overview  Popularity  Vote Count  \\\n",
       "0                  Based on the founding of Facebook        85.5        1200   \n",
       "1         A reunion special with the cast of Friends        90.2        1500   \n",
       "2  Dystopian future where children fight to the d...        95.3        2000   \n",
       "3              A politician's ruthless rise to power        88.1        1800   \n",
       "4     A group of kids uncover supernatural mysteries        92.4        2500   \n",
       "\n",
       "   Vote Average Original Language                       Poster URL  \n",
       "0           7.7                en  https://example.com/poster1.jpg  \n",
       "1           8.5                en  https://example.com/poster2.jpg  \n",
       "2           7.2                en  https://example.com/poster3.jpg  \n",
       "3           8.8                en  https://example.com/poster4.jpg  \n",
       "4           8.7                en  https://example.com/poster5.jpg  "
      ]
     },
     "execution_count": 11,
     "metadata": {},
     "output_type": "execute_result"
    }
   ],
   "source": [
    "df.head()"
   ]
  },
  {
   "cell_type": "markdown",
   "id": "c373c835",
   "metadata": {},
   "source": [
    "Dropping the columns"
   ]
  },
  {
   "cell_type": "code",
   "execution_count": 12,
   "id": "9706b4b6",
   "metadata": {},
   "outputs": [],
   "source": [
    "cols = ['Overview','Original Language','Poster URL']"
   ]
  },
  {
   "cell_type": "code",
   "execution_count": 13,
   "id": "fdd55501",
   "metadata": {},
   "outputs": [
    {
     "data": {
      "text/plain": [
       "Index(['Release Date', 'Title', 'Genre', 'Popularity', 'Vote Count',\n",
       "       'Vote Average'],\n",
       "      dtype='object')"
      ]
     },
     "execution_count": 13,
     "metadata": {},
     "output_type": "execute_result"
    }
   ],
   "source": [
    "df.drop(cols, axis = 1, inplace = True)\n",
    "df.columns"
   ]
  },
  {
   "cell_type": "markdown",
   "id": "4073d0b8",
   "metadata": {},
   "source": [
    "categorizing Vote_Average column\n",
    "\n",
    "We would the Vote_Average values and make 4 categories:popular average below_avg not_popular to describe it more using categorize_col() function provided above."
   ]
  },
  {
   "cell_type": "code",
   "execution_count": 14,
   "id": "26578c29",
   "metadata": {},
   "outputs": [],
   "source": [
    "def categorize_col(df, col, lebels):\n",
    "    \n",
    "    edges = [df[col].describe()['min'],\n",
    "             df[col].describe()['25%'],\n",
    "             df[col].describe()['50%'],\n",
    "             df[col].describe()['75%'],\n",
    "             df[col].describe()['max']]\n",
    "    \n",
    "    df[col] = pd.cut(df[col], edges , labels = labels, duplicates = 'drop')\n",
    "    return df"
   ]
  },
  {
   "cell_type": "code",
   "execution_count": 15,
   "id": "d67323d4",
   "metadata": {},
   "outputs": [
    {
     "data": {
      "text/plain": [
       "['not_popular', 'average', NaN, 'popular', 'below_avg']\n",
       "Categories (4, object): ['not_popular' < 'below_avg' < 'average' < 'popular']"
      ]
     },
     "execution_count": 15,
     "metadata": {},
     "output_type": "execute_result"
    }
   ],
   "source": [
    "labels = ['not_popular', 'below_avg','average','popular']\n",
    "categorize_col(df, 'Vote Average', labels)\n",
    "df['Vote Average'].unique()"
   ]
  },
  {
   "cell_type": "code",
   "execution_count": 16,
   "id": "bec42f90",
   "metadata": {},
   "outputs": [
    {
     "data": {
      "text/html": [
       "<div>\n",
       "<style scoped>\n",
       "    .dataframe tbody tr th:only-of-type {\n",
       "        vertical-align: middle;\n",
       "    }\n",
       "\n",
       "    .dataframe tbody tr th {\n",
       "        vertical-align: top;\n",
       "    }\n",
       "\n",
       "    .dataframe thead th {\n",
       "        text-align: right;\n",
       "    }\n",
       "</style>\n",
       "<table border=\"1\" class=\"dataframe\">\n",
       "  <thead>\n",
       "    <tr style=\"text-align: right;\">\n",
       "      <th></th>\n",
       "      <th>Release Date</th>\n",
       "      <th>Title</th>\n",
       "      <th>Genre</th>\n",
       "      <th>Popularity</th>\n",
       "      <th>Vote Count</th>\n",
       "      <th>Vote Average</th>\n",
       "    </tr>\n",
       "  </thead>\n",
       "  <tbody>\n",
       "    <tr>\n",
       "      <th>0</th>\n",
       "      <td>2010</td>\n",
       "      <td>The Social Network</td>\n",
       "      <td>Drama</td>\n",
       "      <td>85.5</td>\n",
       "      <td>1200</td>\n",
       "      <td>not_popular</td>\n",
       "    </tr>\n",
       "    <tr>\n",
       "      <th>1</th>\n",
       "      <td>2011</td>\n",
       "      <td>Friends: The Reunion</td>\n",
       "      <td>Comedy</td>\n",
       "      <td>90.2</td>\n",
       "      <td>1500</td>\n",
       "      <td>average</td>\n",
       "    </tr>\n",
       "    <tr>\n",
       "      <th>2</th>\n",
       "      <td>2012</td>\n",
       "      <td>The Hunger Games</td>\n",
       "      <td>Action</td>\n",
       "      <td>95.3</td>\n",
       "      <td>2000</td>\n",
       "      <td>NaN</td>\n",
       "    </tr>\n",
       "    <tr>\n",
       "      <th>3</th>\n",
       "      <td>2015</td>\n",
       "      <td>House of Cards</td>\n",
       "      <td>Drama</td>\n",
       "      <td>88.1</td>\n",
       "      <td>1800</td>\n",
       "      <td>popular</td>\n",
       "    </tr>\n",
       "    <tr>\n",
       "      <th>4</th>\n",
       "      <td>2016</td>\n",
       "      <td>Stranger Things</td>\n",
       "      <td>Sci-Fi</td>\n",
       "      <td>92.4</td>\n",
       "      <td>2500</td>\n",
       "      <td>popular</td>\n",
       "    </tr>\n",
       "  </tbody>\n",
       "</table>\n",
       "</div>"
      ],
      "text/plain": [
       "   Release Date                 Title   Genre  Popularity  Vote Count  \\\n",
       "0          2010    The Social Network   Drama        85.5        1200   \n",
       "1          2011  Friends: The Reunion  Comedy        90.2        1500   \n",
       "2          2012      The Hunger Games  Action        95.3        2000   \n",
       "3          2015        House of Cards   Drama        88.1        1800   \n",
       "4          2016       Stranger Things  Sci-Fi        92.4        2500   \n",
       "\n",
       "  Vote Average  \n",
       "0  not_popular  \n",
       "1      average  \n",
       "2          NaN  \n",
       "3      popular  \n",
       "4      popular  "
      ]
     },
     "execution_count": 16,
     "metadata": {},
     "output_type": "execute_result"
    }
   ],
   "source": [
    "df.head()"
   ]
  },
  {
   "cell_type": "code",
   "execution_count": 17,
   "id": "f1e0b23c",
   "metadata": {},
   "outputs": [
    {
     "data": {
      "text/plain": [
       "Vote Average\n",
       "popular        3\n",
       "not_popular    2\n",
       "below_avg      2\n",
       "average        2\n",
       "Name: count, dtype: int64"
      ]
     },
     "execution_count": 17,
     "metadata": {},
     "output_type": "execute_result"
    }
   ],
   "source": [
    "df['Vote Average'].value_counts()"
   ]
  },
  {
   "cell_type": "code",
   "execution_count": 18,
   "id": "2af763bb",
   "metadata": {},
   "outputs": [
    {
     "data": {
      "text/plain": [
       "Release Date    0\n",
       "Title           0\n",
       "Genre           0\n",
       "Popularity      0\n",
       "Vote Count      0\n",
       "Vote Average    0\n",
       "dtype: int64"
      ]
     },
     "execution_count": 18,
     "metadata": {},
     "output_type": "execute_result"
    }
   ],
   "source": [
    "df.dropna(inplace = True)\n",
    "\n",
    "df.isna().sum()"
   ]
  },
  {
   "cell_type": "code",
   "execution_count": 19,
   "id": "5b53dc29",
   "metadata": {},
   "outputs": [
    {
     "data": {
      "text/html": [
       "<div>\n",
       "<style scoped>\n",
       "    .dataframe tbody tr th:only-of-type {\n",
       "        vertical-align: middle;\n",
       "    }\n",
       "\n",
       "    .dataframe tbody tr th {\n",
       "        vertical-align: top;\n",
       "    }\n",
       "\n",
       "    .dataframe thead th {\n",
       "        text-align: right;\n",
       "    }\n",
       "</style>\n",
       "<table border=\"1\" class=\"dataframe\">\n",
       "  <thead>\n",
       "    <tr style=\"text-align: right;\">\n",
       "      <th></th>\n",
       "      <th>Release Date</th>\n",
       "      <th>Title</th>\n",
       "      <th>Genre</th>\n",
       "      <th>Popularity</th>\n",
       "      <th>Vote Count</th>\n",
       "      <th>Vote Average</th>\n",
       "    </tr>\n",
       "  </thead>\n",
       "  <tbody>\n",
       "    <tr>\n",
       "      <th>0</th>\n",
       "      <td>2010</td>\n",
       "      <td>The Social Network</td>\n",
       "      <td>Drama</td>\n",
       "      <td>85.5</td>\n",
       "      <td>1200</td>\n",
       "      <td>not_popular</td>\n",
       "    </tr>\n",
       "    <tr>\n",
       "      <th>1</th>\n",
       "      <td>2011</td>\n",
       "      <td>Friends: The Reunion</td>\n",
       "      <td>Comedy</td>\n",
       "      <td>90.2</td>\n",
       "      <td>1500</td>\n",
       "      <td>average</td>\n",
       "    </tr>\n",
       "    <tr>\n",
       "      <th>3</th>\n",
       "      <td>2015</td>\n",
       "      <td>House of Cards</td>\n",
       "      <td>Drama</td>\n",
       "      <td>88.1</td>\n",
       "      <td>1800</td>\n",
       "      <td>popular</td>\n",
       "    </tr>\n",
       "    <tr>\n",
       "      <th>4</th>\n",
       "      <td>2016</td>\n",
       "      <td>Stranger Things</td>\n",
       "      <td>Sci-Fi</td>\n",
       "      <td>92.4</td>\n",
       "      <td>2500</td>\n",
       "      <td>popular</td>\n",
       "    </tr>\n",
       "    <tr>\n",
       "      <th>5</th>\n",
       "      <td>2018</td>\n",
       "      <td>Deadpool 2</td>\n",
       "      <td>Action</td>\n",
       "      <td>89.0</td>\n",
       "      <td>2200</td>\n",
       "      <td>below_avg</td>\n",
       "    </tr>\n",
       "  </tbody>\n",
       "</table>\n",
       "</div>"
      ],
      "text/plain": [
       "   Release Date                 Title   Genre  Popularity  Vote Count  \\\n",
       "0          2010    The Social Network   Drama        85.5        1200   \n",
       "1          2011  Friends: The Reunion  Comedy        90.2        1500   \n",
       "3          2015        House of Cards   Drama        88.1        1800   \n",
       "4          2016       Stranger Things  Sci-Fi        92.4        2500   \n",
       "5          2018            Deadpool 2  Action        89.0        2200   \n",
       "\n",
       "  Vote Average  \n",
       "0  not_popular  \n",
       "1      average  \n",
       "3      popular  \n",
       "4      popular  \n",
       "5    below_avg  "
      ]
     },
     "execution_count": 19,
     "metadata": {},
     "output_type": "execute_result"
    }
   ],
   "source": [
    "df.head()"
   ]
  },
  {
   "cell_type": "markdown",
   "id": "2dd85468",
   "metadata": {},
   "source": [
    "# we'd split genres into a list and then explode our dataframe to have only one genre per row for ezch movie"
   ]
  },
  {
   "cell_type": "code",
   "execution_count": 20,
   "id": "f9d4210c",
   "metadata": {},
   "outputs": [
    {
     "data": {
      "text/html": [
       "<div>\n",
       "<style scoped>\n",
       "    .dataframe tbody tr th:only-of-type {\n",
       "        vertical-align: middle;\n",
       "    }\n",
       "\n",
       "    .dataframe tbody tr th {\n",
       "        vertical-align: top;\n",
       "    }\n",
       "\n",
       "    .dataframe thead th {\n",
       "        text-align: right;\n",
       "    }\n",
       "</style>\n",
       "<table border=\"1\" class=\"dataframe\">\n",
       "  <thead>\n",
       "    <tr style=\"text-align: right;\">\n",
       "      <th></th>\n",
       "      <th>Release Date</th>\n",
       "      <th>Title</th>\n",
       "      <th>Genre</th>\n",
       "      <th>Popularity</th>\n",
       "      <th>Vote Count</th>\n",
       "      <th>Vote Average</th>\n",
       "    </tr>\n",
       "  </thead>\n",
       "  <tbody>\n",
       "    <tr>\n",
       "      <th>0</th>\n",
       "      <td>2010</td>\n",
       "      <td>The Social Network</td>\n",
       "      <td>Drama</td>\n",
       "      <td>85.5</td>\n",
       "      <td>1200</td>\n",
       "      <td>not_popular</td>\n",
       "    </tr>\n",
       "    <tr>\n",
       "      <th>1</th>\n",
       "      <td>2011</td>\n",
       "      <td>Friends: The Reunion</td>\n",
       "      <td>Comedy</td>\n",
       "      <td>90.2</td>\n",
       "      <td>1500</td>\n",
       "      <td>average</td>\n",
       "    </tr>\n",
       "    <tr>\n",
       "      <th>2</th>\n",
       "      <td>2015</td>\n",
       "      <td>House of Cards</td>\n",
       "      <td>Drama</td>\n",
       "      <td>88.1</td>\n",
       "      <td>1800</td>\n",
       "      <td>popular</td>\n",
       "    </tr>\n",
       "    <tr>\n",
       "      <th>3</th>\n",
       "      <td>2016</td>\n",
       "      <td>Stranger Things</td>\n",
       "      <td>Sci-Fi</td>\n",
       "      <td>92.4</td>\n",
       "      <td>2500</td>\n",
       "      <td>popular</td>\n",
       "    </tr>\n",
       "    <tr>\n",
       "      <th>4</th>\n",
       "      <td>2018</td>\n",
       "      <td>Deadpool 2</td>\n",
       "      <td>Action</td>\n",
       "      <td>89.0</td>\n",
       "      <td>2200</td>\n",
       "      <td>below_avg</td>\n",
       "    </tr>\n",
       "  </tbody>\n",
       "</table>\n",
       "</div>"
      ],
      "text/plain": [
       "   Release Date                 Title   Genre  Popularity  Vote Count  \\\n",
       "0          2010    The Social Network   Drama        85.5        1200   \n",
       "1          2011  Friends: The Reunion  Comedy        90.2        1500   \n",
       "2          2015        House of Cards   Drama        88.1        1800   \n",
       "3          2016       Stranger Things  Sci-Fi        92.4        2500   \n",
       "4          2018            Deadpool 2  Action        89.0        2200   \n",
       "\n",
       "  Vote Average  \n",
       "0  not_popular  \n",
       "1      average  \n",
       "2      popular  \n",
       "3      popular  \n",
       "4    below_avg  "
      ]
     },
     "execution_count": 20,
     "metadata": {},
     "output_type": "execute_result"
    }
   ],
   "source": [
    "df['Genre'] = df['Genre'].str.split(',')\n",
    "df = df.explode('Genre').reset_index(drop = True)\n",
    "df.head()"
   ]
  },
  {
   "cell_type": "code",
   "execution_count": 21,
   "id": "b97cd3a5",
   "metadata": {},
   "outputs": [
    {
     "data": {
      "text/plain": [
       "CategoricalDtype(categories=['Action', 'Comedy', 'Drama', 'Sci-Fi'], ordered=False, categories_dtype=object)"
      ]
     },
     "execution_count": 21,
     "metadata": {},
     "output_type": "execute_result"
    }
   ],
   "source": [
    "#casting column into cateogy\n",
    "\n",
    "df['Genre'] = df['Genre'].astype('category')\n",
    "\n",
    "df['Genre'].dtypes"
   ]
  },
  {
   "cell_type": "code",
   "execution_count": 22,
   "id": "3e297206",
   "metadata": {},
   "outputs": [
    {
     "name": "stdout",
     "output_type": "stream",
     "text": [
      "<class 'pandas.core.frame.DataFrame'>\n",
      "RangeIndex: 9 entries, 0 to 8\n",
      "Data columns (total 6 columns):\n",
      " #   Column        Non-Null Count  Dtype   \n",
      "---  ------        --------------  -----   \n",
      " 0   Release Date  9 non-null      int32   \n",
      " 1   Title         9 non-null      object  \n",
      " 2   Genre         9 non-null      category\n",
      " 3   Popularity    9 non-null      float64 \n",
      " 4   Vote Count    9 non-null      int64   \n",
      " 5   Vote Average  9 non-null      category\n",
      "dtypes: category(2), float64(1), int32(1), int64(1), object(1)\n",
      "memory usage: 806.0+ bytes\n"
     ]
    }
   ],
   "source": [
    "df.info()"
   ]
  },
  {
   "cell_type": "code",
   "execution_count": 23,
   "id": "a5e13454",
   "metadata": {},
   "outputs": [
    {
     "data": {
      "text/plain": [
       "Release Date    9\n",
       "Title           9\n",
       "Genre           4\n",
       "Popularity      9\n",
       "Vote Count      9\n",
       "Vote Average    4\n",
       "dtype: int64"
      ]
     },
     "execution_count": 23,
     "metadata": {},
     "output_type": "execute_result"
    }
   ],
   "source": [
    "df.nunique()"
   ]
  },
  {
   "cell_type": "code",
   "execution_count": 24,
   "id": "f493fddd",
   "metadata": {},
   "outputs": [
    {
     "data": {
      "text/html": [
       "<div>\n",
       "<style scoped>\n",
       "    .dataframe tbody tr th:only-of-type {\n",
       "        vertical-align: middle;\n",
       "    }\n",
       "\n",
       "    .dataframe tbody tr th {\n",
       "        vertical-align: top;\n",
       "    }\n",
       "\n",
       "    .dataframe thead th {\n",
       "        text-align: right;\n",
       "    }\n",
       "</style>\n",
       "<table border=\"1\" class=\"dataframe\">\n",
       "  <thead>\n",
       "    <tr style=\"text-align: right;\">\n",
       "      <th></th>\n",
       "      <th>Release Date</th>\n",
       "      <th>Title</th>\n",
       "      <th>Genre</th>\n",
       "      <th>Popularity</th>\n",
       "      <th>Vote Count</th>\n",
       "      <th>Vote Average</th>\n",
       "    </tr>\n",
       "  </thead>\n",
       "  <tbody>\n",
       "    <tr>\n",
       "      <th>0</th>\n",
       "      <td>2010</td>\n",
       "      <td>The Social Network</td>\n",
       "      <td>Drama</td>\n",
       "      <td>85.5</td>\n",
       "      <td>1200</td>\n",
       "      <td>not_popular</td>\n",
       "    </tr>\n",
       "    <tr>\n",
       "      <th>1</th>\n",
       "      <td>2011</td>\n",
       "      <td>Friends: The Reunion</td>\n",
       "      <td>Comedy</td>\n",
       "      <td>90.2</td>\n",
       "      <td>1500</td>\n",
       "      <td>average</td>\n",
       "    </tr>\n",
       "    <tr>\n",
       "      <th>2</th>\n",
       "      <td>2015</td>\n",
       "      <td>House of Cards</td>\n",
       "      <td>Drama</td>\n",
       "      <td>88.1</td>\n",
       "      <td>1800</td>\n",
       "      <td>popular</td>\n",
       "    </tr>\n",
       "    <tr>\n",
       "      <th>3</th>\n",
       "      <td>2016</td>\n",
       "      <td>Stranger Things</td>\n",
       "      <td>Sci-Fi</td>\n",
       "      <td>92.4</td>\n",
       "      <td>2500</td>\n",
       "      <td>popular</td>\n",
       "    </tr>\n",
       "    <tr>\n",
       "      <th>4</th>\n",
       "      <td>2018</td>\n",
       "      <td>Deadpool 2</td>\n",
       "      <td>Action</td>\n",
       "      <td>89.0</td>\n",
       "      <td>2200</td>\n",
       "      <td>below_avg</td>\n",
       "    </tr>\n",
       "  </tbody>\n",
       "</table>\n",
       "</div>"
      ],
      "text/plain": [
       "   Release Date                 Title   Genre  Popularity  Vote Count  \\\n",
       "0          2010    The Social Network   Drama        85.5        1200   \n",
       "1          2011  Friends: The Reunion  Comedy        90.2        1500   \n",
       "2          2015        House of Cards   Drama        88.1        1800   \n",
       "3          2016       Stranger Things  Sci-Fi        92.4        2500   \n",
       "4          2018            Deadpool 2  Action        89.0        2200   \n",
       "\n",
       "  Vote Average  \n",
       "0  not_popular  \n",
       "1      average  \n",
       "2      popular  \n",
       "3      popular  \n",
       "4    below_avg  "
      ]
     },
     "execution_count": 24,
     "metadata": {},
     "output_type": "execute_result"
    }
   ],
   "source": [
    "df.head()"
   ]
  },
  {
   "cell_type": "markdown",
   "id": "04c7b7fa",
   "metadata": {},
   "source": [
    "# Data Visualization"
   ]
  },
  {
   "cell_type": "code",
   "execution_count": 25,
   "id": "0a1f769e",
   "metadata": {},
   "outputs": [],
   "source": [
    "sns.set_style('whitegrid')"
   ]
  },
  {
   "cell_type": "markdown",
   "id": "fd3ef5ba",
   "metadata": {},
   "source": [
    "# What is the most frequent genre of movies released on Netflix?"
   ]
  },
  {
   "cell_type": "code",
   "execution_count": 26,
   "id": "25c220a7",
   "metadata": {},
   "outputs": [
    {
     "data": {
      "text/plain": [
       "count         9\n",
       "unique        4\n",
       "top       Drama\n",
       "freq          4\n",
       "Name: Genre, dtype: object"
      ]
     },
     "execution_count": 26,
     "metadata": {},
     "output_type": "execute_result"
    }
   ],
   "source": [
    "df['Genre'].describe()"
   ]
  },
  {
   "cell_type": "code",
   "execution_count": 27,
   "id": "14f02304",
   "metadata": {},
   "outputs": [
    {
     "data": {
      "image/png": "[encoded data removed]",
      "text/plain": [
       "<Figure size 511.111x500 with 1 Axes>"
      ]
     },
     "metadata": {},
     "output_type": "display_data"
    }
   ],
   "source": [
    "sns.catplot(y = 'Genre', data = df, kind = 'count',\n",
    "            order = df['Genre'].value_counts().index,\n",
    "            color = '#4287f5')\n",
    "plt.title('Genre column distribution')\n",
    "plt.show()"
   ]
  },
  {
   "cell_type": "markdown",
   "id": "30ee9769",
   "metadata": {},
   "source": [
    "# Which has highest votes in vote avg column?"
   ]
  },
  {
   "cell_type": "code",
   "execution_count": 28,
   "id": "ca8b2299",
   "metadata": {},
   "outputs": [
    {
     "data": {
      "text/html": [
       "<div>\n",
       "<style scoped>\n",
       "    .dataframe tbody tr th:only-of-type {\n",
       "        vertical-align: middle;\n",
       "    }\n",
       "\n",
       "    .dataframe tbody tr th {\n",
       "        vertical-align: top;\n",
       "    }\n",
       "\n",
       "    .dataframe thead th {\n",
       "        text-align: right;\n",
       "    }\n",
       "</style>\n",
       "<table border=\"1\" class=\"dataframe\">\n",
       "  <thead>\n",
       "    <tr style=\"text-align: right;\">\n",
       "      <th></th>\n",
       "      <th>Release Date</th>\n",
       "      <th>Title</th>\n",
       "      <th>Genre</th>\n",
       "      <th>Popularity</th>\n",
       "      <th>Vote Count</th>\n",
       "      <th>Vote Average</th>\n",
       "    </tr>\n",
       "  </thead>\n",
       "  <tbody>\n",
       "    <tr>\n",
       "      <th>0</th>\n",
       "      <td>2010</td>\n",
       "      <td>The Social Network</td>\n",
       "      <td>Drama</td>\n",
       "      <td>85.5</td>\n",
       "      <td>1200</td>\n",
       "      <td>not_popular</td>\n",
       "    </tr>\n",
       "    <tr>\n",
       "      <th>1</th>\n",
       "      <td>2011</td>\n",
       "      <td>Friends: The Reunion</td>\n",
       "      <td>Comedy</td>\n",
       "      <td>90.2</td>\n",
       "      <td>1500</td>\n",
       "      <td>average</td>\n",
       "    </tr>\n",
       "    <tr>\n",
       "      <th>2</th>\n",
       "      <td>2015</td>\n",
       "      <td>House of Cards</td>\n",
       "      <td>Drama</td>\n",
       "      <td>88.1</td>\n",
       "      <td>1800</td>\n",
       "      <td>popular</td>\n",
       "    </tr>\n",
       "    <tr>\n",
       "      <th>3</th>\n",
       "      <td>2016</td>\n",
       "      <td>Stranger Things</td>\n",
       "      <td>Sci-Fi</td>\n",
       "      <td>92.4</td>\n",
       "      <td>2500</td>\n",
       "      <td>popular</td>\n",
       "    </tr>\n",
       "    <tr>\n",
       "      <th>4</th>\n",
       "      <td>2018</td>\n",
       "      <td>Deadpool 2</td>\n",
       "      <td>Action</td>\n",
       "      <td>89.0</td>\n",
       "      <td>2200</td>\n",
       "      <td>below_avg</td>\n",
       "    </tr>\n",
       "  </tbody>\n",
       "</table>\n",
       "</div>"
      ],
      "text/plain": [
       "   Release Date                 Title   Genre  Popularity  Vote Count  \\\n",
       "0          2010    The Social Network   Drama        85.5        1200   \n",
       "1          2011  Friends: The Reunion  Comedy        90.2        1500   \n",
       "2          2015        House of Cards   Drama        88.1        1800   \n",
       "3          2016       Stranger Things  Sci-Fi        92.4        2500   \n",
       "4          2018            Deadpool 2  Action        89.0        2200   \n",
       "\n",
       "  Vote Average  \n",
       "0  not_popular  \n",
       "1      average  \n",
       "2      popular  \n",
       "3      popular  \n",
       "4    below_avg  "
      ]
     },
     "execution_count": 28,
     "metadata": {},
     "output_type": "execute_result"
    }
   ],
   "source": [
    "df.head()"
   ]
  },
  {
   "cell_type": "code",
   "execution_count": 29,
   "id": "afe9f2ab",
   "metadata": {},
   "outputs": [
    {
     "data": {
      "image/png": "[encoded data removed]",
      "text/plain": [
       "<Figure size 511.111x500 with 1 Axes>"
      ]
     },
     "metadata": {},
     "output_type": "display_data"
    }
   ],
   "source": [
    "sns.catplot(y = 'Vote Average', data = df, kind = 'count',\n",
    "            order = df['Vote Average'].value_counts().index,\n",
    "            color = '#4287f5')\n",
    "plt.title('Votes distribution')\n",
    "\n",
    "plt.show()"
   ]
  },
  {
   "cell_type": "markdown",
   "id": "71dfea5b",
   "metadata": {},
   "source": [
    "# What movie got the highest popularity? What's its genre?"
   ]
  },
  {
   "cell_type": "code",
   "execution_count": 30,
   "id": "1d3ca6b0",
   "metadata": {},
   "outputs": [
    {
     "data": {
      "text/html": [
       "<div>\n",
       "<style scoped>\n",
       "    .dataframe tbody tr th:only-of-type {\n",
       "        vertical-align: middle;\n",
       "    }\n",
       "\n",
       "    .dataframe tbody tr th {\n",
       "        vertical-align: top;\n",
       "    }\n",
       "\n",
       "    .dataframe thead th {\n",
       "        text-align: right;\n",
       "    }\n",
       "</style>\n",
       "<table border=\"1\" class=\"dataframe\">\n",
       "  <thead>\n",
       "    <tr style=\"text-align: right;\">\n",
       "      <th></th>\n",
       "      <th>Release Date</th>\n",
       "      <th>Title</th>\n",
       "      <th>Genre</th>\n",
       "      <th>Popularity</th>\n",
       "      <th>Vote Count</th>\n",
       "      <th>Vote Average</th>\n",
       "    </tr>\n",
       "  </thead>\n",
       "  <tbody>\n",
       "    <tr>\n",
       "      <th>0</th>\n",
       "      <td>2010</td>\n",
       "      <td>The Social Network</td>\n",
       "      <td>Drama</td>\n",
       "      <td>85.5</td>\n",
       "      <td>1200</td>\n",
       "      <td>not_popular</td>\n",
       "    </tr>\n",
       "    <tr>\n",
       "      <th>1</th>\n",
       "      <td>2011</td>\n",
       "      <td>Friends: The Reunion</td>\n",
       "      <td>Comedy</td>\n",
       "      <td>90.2</td>\n",
       "      <td>1500</td>\n",
       "      <td>average</td>\n",
       "    </tr>\n",
       "  </tbody>\n",
       "</table>\n",
       "</div>"
      ],
      "text/plain": [
       "   Release Date                 Title   Genre  Popularity  Vote Count  \\\n",
       "0          2010    The Social Network   Drama        85.5        1200   \n",
       "1          2011  Friends: The Reunion  Comedy        90.2        1500   \n",
       "\n",
       "  Vote Average  \n",
       "0  not_popular  \n",
       "1      average  "
      ]
     },
     "execution_count": 30,
     "metadata": {},
     "output_type": "execute_result"
    }
   ],
   "source": [
    "df.head(2)"
   ]
  },
  {
   "cell_type": "code",
   "execution_count": 31,
   "id": "5ddc83ef",
   "metadata": {},
   "outputs": [
    {
     "data": {
      "text/html": [
       "<div>\n",
       "<style scoped>\n",
       "    .dataframe tbody tr th:only-of-type {\n",
       "        vertical-align: middle;\n",
       "    }\n",
       "\n",
       "    .dataframe tbody tr th {\n",
       "        vertical-align: top;\n",
       "    }\n",
       "\n",
       "    .dataframe thead th {\n",
       "        text-align: right;\n",
       "    }\n",
       "</style>\n",
       "<table border=\"1\" class=\"dataframe\">\n",
       "  <thead>\n",
       "    <tr style=\"text-align: right;\">\n",
       "      <th></th>\n",
       "      <th>Release Date</th>\n",
       "      <th>Title</th>\n",
       "      <th>Genre</th>\n",
       "      <th>Popularity</th>\n",
       "      <th>Vote Count</th>\n",
       "      <th>Vote Average</th>\n",
       "    </tr>\n",
       "  </thead>\n",
       "  <tbody>\n",
       "    <tr>\n",
       "      <th>6</th>\n",
       "      <td>2021</td>\n",
       "      <td>Money Heist: Part 5</td>\n",
       "      <td>Action</td>\n",
       "      <td>94.0</td>\n",
       "      <td>3500</td>\n",
       "      <td>below_avg</td>\n",
       "    </tr>\n",
       "  </tbody>\n",
       "</table>\n",
       "</div>"
      ],
      "text/plain": [
       "   Release Date                Title   Genre  Popularity  Vote Count  \\\n",
       "6          2021  Money Heist: Part 5  Action        94.0        3500   \n",
       "\n",
       "  Vote Average  \n",
       "6    below_avg  "
      ]
     },
     "execution_count": 31,
     "metadata": {},
     "output_type": "execute_result"
    }
   ],
   "source": [
    "df[df['Popularity'] == df['Popularity'].max()]"
   ]
  },
  {
   "cell_type": "markdown",
   "id": "f84ccfa6",
   "metadata": {},
   "source": [
    "# What movie got the lowest popularity? What's its genre?"
   ]
  },
  {
   "cell_type": "code",
   "execution_count": 32,
   "id": "ce45ac37",
   "metadata": {},
   "outputs": [
    {
     "data": {
      "text/html": [
       "<div>\n",
       "<style scoped>\n",
       "    .dataframe tbody tr th:only-of-type {\n",
       "        vertical-align: middle;\n",
       "    }\n",
       "\n",
       "    .dataframe tbody tr th {\n",
       "        vertical-align: top;\n",
       "    }\n",
       "\n",
       "    .dataframe thead th {\n",
       "        text-align: right;\n",
       "    }\n",
       "</style>\n",
       "<table border=\"1\" class=\"dataframe\">\n",
       "  <thead>\n",
       "    <tr style=\"text-align: right;\">\n",
       "      <th></th>\n",
       "      <th>Release Date</th>\n",
       "      <th>Title</th>\n",
       "      <th>Genre</th>\n",
       "      <th>Popularity</th>\n",
       "      <th>Vote Count</th>\n",
       "      <th>Vote Average</th>\n",
       "    </tr>\n",
       "  </thead>\n",
       "  <tbody>\n",
       "    <tr>\n",
       "      <th>8</th>\n",
       "      <td>2023</td>\n",
       "      <td>Queen Charlotte: A Bridgerton Story</td>\n",
       "      <td>Drama</td>\n",
       "      <td>85.0</td>\n",
       "      <td>4500</td>\n",
       "      <td>not_popular</td>\n",
       "    </tr>\n",
       "  </tbody>\n",
       "</table>\n",
       "</div>"
      ],
      "text/plain": [
       "   Release Date                                Title  Genre  Popularity  \\\n",
       "8          2023  Queen Charlotte: A Bridgerton Story  Drama        85.0   \n",
       "\n",
       "   Vote Count Vote Average  \n",
       "8        4500  not_popular  "
      ]
     },
     "execution_count": 32,
     "metadata": {},
     "output_type": "execute_result"
    }
   ],
   "source": [
    "df[df['Popularity'] == df['Popularity'].min()]"
   ]
  },
  {
   "cell_type": "markdown",
   "id": "28d851e2",
   "metadata": {},
   "source": [
    "# Which year has the most filmmed movies?"
   ]
  },
  {
   "cell_type": "code",
   "execution_count": 33,
   "id": "f0599fde",
   "metadata": {},
   "outputs": [
    {
     "data": {
      "image/png": "[encoded data removed]",
      "text/plain": [
       "<Figure size 640x480 with 1 Axes>"
      ]
     },
     "metadata": {},
     "output_type": "display_data"
    }
   ],
   "source": [
    "df['Release Date'].hist()\n",
    "plt.title('Release Date column distribution')\n",
    "plt.show()"
   ]
  },
  {
   "cell_type": "markdown",
   "id": "5d053c12",
   "metadata": {},
   "source": [
    "Conclusion\n",
    "Q1: What is the most frequent genre in the dataset?\n",
    "\n",
    "Drama genre is the most frequent genre in our dataset and has appeared more than 14% of the times among 19 other genres.\n",
    "\n",
    "02: What genres has highest votes?\n",
    "\n",
    "we have 25.5% of our dataset with popular vote (6520 rows). Drama again gets the highest popularity among fans by being having more than 18.5% of movies\n",
    "\n",
    "Q3: What movie got the highest popularity? what's its genre?\n",
    "\n",
    "Spider-Man: No Way Home has the highest popularity rate in our dataset and it has genres of Action, Adventure and Sience Fiction.\n",
    "\n",
    "Q3: What movie got the lowest popularity? what's its genre?\n",
    "\n",
    "The united states, thread' has the highest lowest rate in our dataset and it has genres of music, drama, 'war', 'sci-fi' and history.\n",
    "\n",
    "Q4: Which year has the most filmmed movies?\n",
    "\n",
    "year 2020 has the highest filmming rate in our dataset."
   ]
  }
 ],
 "metadata": {
  "kernelspec": {
   "display_name": "Python 3",
   "language": "python",
   "name": "python3"
  },
  "language_info": {
   "codemirror_mode": {
    "name": "ipython",
    "version": 3
   },
   "file_extension": ".py",
   "mimetype": "text/x-python",
   "name": "python",
   "nbconvert_exporter": "python",
   "pygments_lexer": "ipython3",
   "version": "3.11.0"
  }
 },
 "nbformat": 4,
 "nbformat_minor": 5
}
